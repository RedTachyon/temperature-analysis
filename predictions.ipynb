{
 "cells": [
  {
   "cell_type": "code",
   "execution_count": 6,
   "metadata": {
    "collapsed": true
   },
   "outputs": [],
   "source": [
    "import numpy as np\n",
    "import pandas as pd\n",
    "import pickle\n",
    "import matplotlib\n",
    "matplotlib.use('TkAgg')\n",
    "import matplotlib.pyplot as plt\n",
    "import dataholders\n",
    "import utils\n",
    "\n",
    "\n",
    "path = 'data/data.pickle'\n",
    "\n",
    "temp_path = 'data/raw/uft_flight07.mat'\n",
    "wind_path = 'data/raw/actos_flight07.mat'\n",
    "\n",
    "temp_path2 = 'data/raw/uft_flight16.mat'\n",
    "wind_path2 = 'data/raw/actos_flight16.mat'"
   ]
  },
  {
   "cell_type": "code",
   "execution_count": 2,
   "metadata": {},
   "outputs": [
    {
     "name": "stderr",
     "output_type": "stream",
     "text": [
      "Using TensorFlow backend.\n"
     ]
    }
   ],
   "source": [
    "from keras.layers import Dense, Dropout\n",
    "from keras.models import Sequential\n",
    "import keras.backend as K"
   ]
  },
  {
   "cell_type": "code",
   "execution_count": 3,
   "metadata": {
    "collapsed": true
   },
   "outputs": [],
   "source": [
    "from sklearn.model_selection import train_test_split"
   ]
  },
  {
   "cell_type": "code",
   "execution_count": 45,
   "metadata": {
    "collapsed": true
   },
   "outputs": [],
   "source": [
    "N = 101"
   ]
  },
  {
   "cell_type": "code",
   "execution_count": 46,
   "metadata": {
    "collapsed": true
   },
   "outputs": [],
   "source": [
    "holder = dataholders.TempWindData(temp_path, wind_path)\n",
    "\n",
    "mean = holder.T1.mean()\n",
    "std = holder.T1.std()\n",
    "\n",
    "\n",
    "rolled = utils.rolling_window(holder.T1, N)\n",
    "\n",
    "X_train = rolled[:-1]\n",
    "\n",
    "Y_train = holder.T1[N:]\n",
    "\n",
    "X_train = (X_train - mean) / std\n",
    "Y_train = (Y_train - mean) / std"
   ]
  },
  {
   "cell_type": "code",
   "execution_count": 47,
   "metadata": {
    "collapsed": true
   },
   "outputs": [],
   "source": [
    "holder = dataholders.TempWindData(temp_path2, wind_path2)\n",
    "\n",
    "#mean2 = holder2.T1.mean()\n",
    "#std2 = holder2.T1.std()\n",
    "\n",
    "rolled = utils.rolling_window(holder.T1, N)\n",
    "\n",
    "X_test = rolled[:-1]\n",
    "\n",
    "Y_test = holder.T1[N:]\n",
    "\n",
    "X_test = (X_test - mean) / std\n",
    "Y_test = (Y_test - mean) / std"
   ]
  },
  {
   "cell_type": "code",
   "execution_count": 110,
   "metadata": {
    "scrolled": true
   },
   "outputs": [
    {
     "name": "stdout",
     "output_type": "stream",
     "text": [
      "_________________________________________________________________\n",
      "Layer (type)                 Output Shape              Param #   \n",
      "=================================================================\n",
      "dense_70 (Dense)             (None, 100)               10200     \n",
      "_________________________________________________________________\n",
      "dense_71 (Dense)             (None, 50)                5050      \n",
      "_________________________________________________________________\n",
      "dense_72 (Dense)             (None, 50)                2550      \n",
      "_________________________________________________________________\n",
      "dense_73 (Dense)             (None, 20)                1020      \n",
      "_________________________________________________________________\n",
      "dense_74 (Dense)             (None, 20)                420       \n",
      "_________________________________________________________________\n",
      "dense_75 (Dense)             (None, 10)                210       \n",
      "_________________________________________________________________\n",
      "dense_76 (Dense)             (None, 1)                 11        \n",
      "=================================================================\n",
      "Total params: 19,461\n",
      "Trainable params: 19,461\n",
      "Non-trainable params: 0\n",
      "_________________________________________________________________\n"
     ]
    }
   ],
   "source": [
    "model = Sequential()\n",
    "model.add(Dense(100, activation='tanh', input_shape=(N,)))\n",
    "model.add(Dense(50, activation='tanh'))\n",
    "model.add(Dense(50, activation='tanh'))\n",
    "model.add(Dense(20, activation='tanh'))\n",
    "model.add(Dense(20, activation='tanh'))\n",
    "model.add(Dense(10, activation='tanh'))\n",
    "model.add(Dense(1))\n",
    "\n",
    "model.summary()"
   ]
  },
  {
   "cell_type": "code",
   "execution_count": 111,
   "metadata": {
    "collapsed": true
   },
   "outputs": [],
   "source": [
    "model.compile('adam', loss='mse', metrics=['mae'])"
   ]
  },
  {
   "cell_type": "code",
   "execution_count": 112,
   "metadata": {
    "scrolled": true
   },
   "outputs": [
    {
     "name": "stdout",
     "output_type": "stream",
     "text": [
      "Epoch 1/20\n",
      "663467/663467 [==============================] - 2s - loss: 0.1021 - mean_absolute_error: 0.1655     \n",
      "Epoch 2/20\n",
      "663467/663467 [==============================] - 2s - loss: 0.0053 - mean_absolute_error: 0.0287     \n",
      "Epoch 3/20\n",
      "663467/663467 [==============================] - 2s - loss: 0.0027 - mean_absolute_error: 0.0206     \n",
      "Epoch 4/20\n",
      "663467/663467 [==============================] - 2s - loss: 0.0019 - mean_absolute_error: 0.0201     \n",
      "Epoch 5/20\n",
      "663467/663467 [==============================] - 2s - loss: 0.0015 - mean_absolute_error: 0.0194     \n",
      "Epoch 6/20\n",
      "663467/663467 [==============================] - 2s - loss: 0.0013 - mean_absolute_error: 0.0200     \n",
      "Epoch 7/20\n",
      "663467/663467 [==============================] - 2s - loss: 0.0011 - mean_absolute_error: 0.0179     \n",
      "Epoch 8/20\n",
      "663467/663467 [==============================] - 2s - loss: 8.6679e-04 - mean_absolute_error: 0.0160     \n",
      "Epoch 9/20\n",
      "663467/663467 [==============================] - 2s - loss: 9.1414e-04 - mean_absolute_error: 0.0175     \n",
      "Epoch 10/20\n",
      "663467/663467 [==============================] - 2s - loss: 7.3996e-04 - mean_absolute_error: 0.0155     \n",
      "Epoch 11/20\n",
      "663467/663467 [==============================] - 2s - loss: 7.6430e-04 - mean_absolute_error: 0.0156     \n",
      "Epoch 12/20\n",
      "663467/663467 [==============================] - 2s - loss: 6.3354e-04 - mean_absolute_error: 0.0144     \n",
      "Epoch 13/20\n",
      "663467/663467 [==============================] - 2s - loss: 7.5557e-04 - mean_absolute_error: 0.0177     \n",
      "Epoch 14/20\n",
      "663467/663467 [==============================] - 2s - loss: 5.6563e-04 - mean_absolute_error: 0.0134     \n",
      "Epoch 15/20\n",
      "663467/663467 [==============================] - 2s - loss: 5.5398e-04 - mean_absolute_error: 0.0127     \n",
      "Epoch 16/20\n",
      "663467/663467 [==============================] - 2s - loss: 6.2186e-04 - mean_absolute_error: 0.0148     \n",
      "Epoch 17/20\n",
      "663467/663467 [==============================] - 2s - loss: 5.5561e-04 - mean_absolute_error: 0.0134     \n",
      "Epoch 18/20\n",
      "663467/663467 [==============================] - 2s - loss: 5.8403e-04 - mean_absolute_error: 0.0141     \n",
      "Epoch 19/20\n",
      "663467/663467 [==============================] - 2s - loss: 5.1813e-04 - mean_absolute_error: 0.0131     \n",
      "Epoch 20/20\n",
      "663467/663467 [==============================] - 2s - loss: 5.6531e-04 - mean_absolute_error: 0.0137     \n"
     ]
    },
    {
     "data": {
      "text/plain": [
       "<keras.callbacks.History at 0x7f7571c20e48>"
      ]
     },
     "execution_count": 112,
     "metadata": {},
     "output_type": "execute_result"
    }
   ],
   "source": [
    "model.fit(X_train, Y_train, batch_size=10000, epochs=20)"
   ]
  },
  {
   "cell_type": "code",
   "execution_count": 99,
   "metadata": {},
   "outputs": [
    {
     "name": "stdout",
     "output_type": "stream",
     "text": [
      "661504/663467 [============================>.] - ETA: 0s"
     ]
    },
    {
     "data": {
      "text/plain": [
       "[0.3226852812150604, 0.47332050827447419]"
      ]
     },
     "execution_count": 99,
     "metadata": {},
     "output_type": "execute_result"
    }
   ],
   "source": [
    "model.evaluate(X_train, Y_train, batch_size=1024)"
   ]
  },
  {
   "cell_type": "code",
   "execution_count": 100,
   "metadata": {},
   "outputs": [
    {
     "name": "stdout",
     "output_type": "stream",
     "text": [
      "777216/791758 [============================>.] - ETA: 0s"
     ]
    },
    {
     "data": {
      "text/plain": [
       "[0.1839318829997264, 0.36480586540774917]"
      ]
     },
     "execution_count": 100,
     "metadata": {},
     "output_type": "execute_result"
    }
   ],
   "source": [
    "model.evaluate(X_test, Y_test, batch_size=1024)"
   ]
  },
  {
   "cell_type": "code",
   "execution_count": 113,
   "metadata": {},
   "outputs": [],
   "source": [
    "preds_train = model.predict(X_train, batch_size=1024).ravel()"
   ]
  },
  {
   "cell_type": "code",
   "execution_count": 114,
   "metadata": {
    "collapsed": true
   },
   "outputs": [],
   "source": [
    "preds_test = model.predict(X_test, batch_size=1024).ravel()"
   ]
  },
  {
   "cell_type": "code",
   "execution_count": 115,
   "metadata": {
    "collapsed": true
   },
   "outputs": [],
   "source": [
    "plt.rcParams['figure.figsize'] = [20,8]\n",
    "\n",
    "plt.plot(preds_train*std + mean, c='b')\n",
    "plt.plot(Y_train*std + mean, c='g')\n",
    "plt.show()"
   ]
  },
  {
   "cell_type": "code",
   "execution_count": 97,
   "metadata": {
    "collapsed": true
   },
   "outputs": [],
   "source": [
    "plt.rcParams['figure.figsize'] = [20,8]\n",
    "\n",
    "plt.plot(preds_test*std + mean, c='b')\n",
    "plt.plot(Y_test*std + mean, c='g')\n",
    "plt.show()"
   ]
  },
  {
   "cell_type": "code",
   "execution_count": 55,
   "metadata": {},
   "outputs": [
    {
     "data": {
      "text/plain": [
       "0.67197766568919848"
      ]
     },
     "execution_count": 55,
     "metadata": {},
     "output_type": "execute_result"
    }
   ],
   "source": [
    "abs((Y_test) - (preds_test)).max()"
   ]
  },
  {
   "cell_type": "code",
   "execution_count": 31,
   "metadata": {},
   "outputs": [
    {
     "data": {
      "text/plain": [
       "0.87044333979954736"
      ]
     },
     "execution_count": 31,
     "metadata": {},
     "output_type": "execute_result"
    }
   ],
   "source": [
    "(Y2 > preds).mean()"
   ]
  },
  {
   "cell_type": "code",
   "execution_count": 27,
   "metadata": {},
   "outputs": [
    {
     "name": "stdout",
     "output_type": "stream",
     "text": [
      "774144/791808 [============================>.] - ETA: 0s"
     ]
    },
    {
     "data": {
      "text/plain": [
       "[0.006274319926910331, 0.00018319686503334104]"
      ]
     },
     "execution_count": 27,
     "metadata": {},
     "output_type": "execute_result"
    }
   ],
   "source": [
    "model.evaluate(X2, Y2, batch_size=1024)"
   ]
  },
  {
   "cell_type": "markdown",
   "metadata": {},
   "source": [
    "# Ideas:\n",
    "\n",
    "0. Predict the filtered series\n",
    "\n",
    "0. Use T2, lwc, sonic(1/2/3)"
   ]
  }
 ],
 "metadata": {
  "kernelspec": {
   "display_name": "Python 3",
   "language": "python",
   "name": "python3"
  },
  "language_info": {
   "codemirror_mode": {
    "name": "ipython",
    "version": 3
   },
   "file_extension": ".py",
   "mimetype": "text/x-python",
   "name": "python",
   "nbconvert_exporter": "python",
   "pygments_lexer": "ipython3",
   "version": "3.5.4"
  }
 },
 "nbformat": 4,
 "nbformat_minor": 2
}
