{
 "cells": [
  {
   "cell_type": "code",
   "execution_count": 1,
   "metadata": {
    "collapsed": true
   },
   "outputs": [],
   "source": [
    "import numpy as np\n",
    "from scipy.io import loadmat\n",
    "import matplotlib\n",
    "matplotlib.use(\"TkAgg\")\n",
    "import matplotlib.pyplot as plt\n",
    "import pickle"
   ]
  },
  {
   "cell_type": "code",
   "execution_count": 2,
   "metadata": {
    "collapsed": true
   },
   "outputs": [],
   "source": [
    "# data = loadmat('uft_flight07.mat', variable_names=('lowT_av', 'upT_av', 'lwc1V_av'))\n",
    "\n",
    "# with open(\"data.pickle\", \"wb\") as f:\n",
    "#     pickle.dump(data, f)\n",
    "\n",
    "with open(\"data.pickle\", \"rb\") as f:\n",
    "    data = pickle.load(f)"
   ]
  },
  {
   "cell_type": "code",
   "execution_count": 3,
   "metadata": {},
   "outputs": [],
   "source": [
    "LOW =  275000\n",
    "HIGH = 300000\n",
    "\n",
    "Y1 = data['lowT_av'].squeeze()\n",
    "Y2 = data['upT_av'].squeeze()\n",
    "LWC = data['lwc1V_av']\n",
    "X = np.arange(Y1.shape[0]) / 100.\n",
    "\n",
    "X_cut = X[LOW:HIGH]\n",
    "Y1_cut = Y1[LOW:HIGH]\n",
    "Y2_cut = Y2[LOW:HIGH]"
   ]
  },
  {
   "cell_type": "code",
   "execution_count": 4,
   "metadata": {
    "collapsed": true
   },
   "outputs": [],
   "source": [
    "def rolling_window(a, window):\n",
    "    shape = a.shape[:-1] + (a.shape[-1] - window + 1, window)\n",
    "    strides = a.strides + (a.strides[-1],)\n",
    "    return np.lib.stride_tricks.as_strided(a, shape=shape, strides=strides)\n",
    "\n",
    "def detect_jumps(data, size, threshold):\n",
    "    assert size % 2 # Only odd sizes, for now\n",
    "    pad = size // 2\n",
    "    \n",
    "    strided_data = rolling_window(data, size)\n",
    "    diff = strided_data.max(axis=1) - strided_data.min(axis=1)\n",
    "    diff = np.hstack((np.zeros(pad), diff, np.zeros(pad)))\n",
    "    return diff > threshold"
   ]
  },
  {
   "cell_type": "code",
   "execution_count": 5,
   "metadata": {},
   "outputs": [],
   "source": [
    "plt.rcParams['figure.figsize'] = (18,4)\n",
    "\n",
    "\n",
    "WIDTH = 0.5\n",
    "\n",
    "\n",
    "jumps = detect_jumps(Y1_cut, 5, .01)\n",
    "\n",
    "highlight = np.where(jumps)[0] / 100.\n",
    "#highlight /= (HIGH - LOW) / 100.\n",
    "highlight += LOW / 100.\n",
    "\n",
    "\n",
    "plt.vlines(highlight, 13.8, 14.6, alpha=.3, linewidth=2, colors='r')\n",
    "plt.plot(X_cut, Y1_cut, linewidth=WIDTH)\n",
    "#plt.plot(X_cut, Y2_cut, linewidth=WIDTH)\n",
    "#plt.plot(X[LOW:HIGH], 20*LWC[LOW:HIGH])\n",
    "plt.show()"
   ]
  },
  {
   "cell_type": "code",
   "execution_count": null,
   "metadata": {
    "collapsed": true
   },
   "outputs": [],
   "source": []
  }
 ],
 "metadata": {
  "kernelspec": {
   "display_name": "Python 3",
   "language": "python",
   "name": "python3"
  },
  "language_info": {
   "codemirror_mode": {
    "name": "ipython",
    "version": 3
   },
   "file_extension": ".py",
   "mimetype": "text/x-python",
   "name": "python",
   "nbconvert_exporter": "python",
   "pygments_lexer": "ipython3",
   "version": "3.5.4"
  }
 },
 "nbformat": 4,
 "nbformat_minor": 2
}
