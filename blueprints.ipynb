{
 "cells": [
  {
   "cell_type": "code",
   "execution_count": 1,
   "metadata": {
    "collapsed": true,
    "deletable": true,
    "editable": true
   },
   "outputs": [],
   "source": [
    "import numpy as np\n",
    "from scipy.io import loadmat\n",
    "import matplotlib\n",
    "matplotlib.use(\"TkAgg\")\n",
    "import matplotlib.pyplot as plt\n",
    "import pickle"
   ]
  },
  {
   "cell_type": "code",
   "execution_count": 2,
   "metadata": {
    "collapsed": true,
    "deletable": true,
    "editable": true
   },
   "outputs": [],
   "source": [
    "# data = loadmat('uft_flight07.mat', variable_names=('lowT_av', 'upT_av', 'lwc1V_av'))\n",
    "\n",
    "# with open(\"data.pickle\", \"wb\") as f:\n",
    "#     pickle.dump(data, f)\n",
    "\n",
    "with open(\"data.pickle\", \"rb\") as f:\n",
    "    data = pickle.load(f)"
   ]
  },
  {
   "cell_type": "code",
   "execution_count": 3,
   "metadata": {
    "collapsed": true,
    "deletable": true,
    "editable": true
   },
   "outputs": [],
   "source": [
    "LOW =  275000\n",
    "HIGH = 300000\n",
    "\n",
    "Y1 = data['lowT_av'].squeeze()\n",
    "Y2 = data['upT_av'].squeeze()\n",
    "LWC = data['lwc1V_av']\n",
    "X = np.arange(Y1.shape[0]) / 100.\n",
    "\n",
    "X_cut = X[LOW:HIGH]\n",
    "Y1_cut = Y1[LOW:HIGH]\n",
    "Y2_cut = Y2[LOW:HIGH]"
   ]
  },
  {
   "cell_type": "code",
   "execution_count": 4,
   "metadata": {
    "collapsed": true,
    "deletable": true,
    "editable": true
   },
   "outputs": [],
   "source": [
    "def rolling_window(a, window):\n",
    "    shape = a.shape[:-1] + (a.shape[-1] - window + 1, window)\n",
    "    strides = a.strides + (a.strides[-1],)\n",
    "    return np.lib.stride_tricks.as_strided(a, shape=shape, strides=strides)\n",
    "\n",
    "def detect_jumps(data, size, threshold, func=lambda x: x.max(1) - x.min(1)):\n",
    "    assert size % 2 # Only odd sizes, for now\n",
    "    pad = size // 2\n",
    "    \n",
    "    strided_data = rolling_window(data, size)\n",
    "    #diff = strided_data.max(axis=1) - strided_data.min(axis=1)\n",
    "    result = func(strided_data)\n",
    "    result = np.hstack((np.zeros(pad), result, np.zeros(pad)))\n",
    "    return result > threshold"
   ]
  },
  {
   "cell_type": "code",
   "execution_count": null,
   "metadata": {
    "collapsed": true,
    "deletable": true,
    "editable": true
   },
   "outputs": [],
   "source": [
    "plt.rcParams['figure.figsize'] = (18,4)\n",
    "\n",
    "\n",
    "WIDTH = 0.5\n",
    "\n",
    "\n",
    "jumps = detect_jumps(Y1_cut, 5, .01)\n",
    "\n",
    "highlight = np.where(jumps)[0] / 100.\n",
    "#highlight /= (HIGH - LOW) / 100.\n",
    "highlight += LOW / 100.\n",
    "\n",
    "\n",
    "plt.vlines(highlight, 13.8, 14.6, alpha=.25, linewidth=2.5, colors='r')\n",
    "plt.plot(X_cut, Y1_cut, linewidth=WIDTH)\n",
    "#plt.plot(X_cut, Y2_cut, linewidth=WIDTH)\n",
    "#plt.plot(X[LOW:HIGH], 20*LWC[LOW:HIGH])\n",
    "plt.show()"
   ]
  },
  {
   "cell_type": "markdown",
   "metadata": {
    "deletable": true,
    "editable": true
   },
   "source": [
    "# To do:\n",
    "\n",
    "0. Estimate the optimal threshold value, maybe via a purely statistical analysis (i.e. fraction of all points that are marked as jumps)\n",
    "\n",
    "0. Estimate the optimal window (other than 5 - maybe)\n",
    "\n",
    "0. Try to make it more robust to excessive noise (divide the diff term by std?)\n",
    "\n",
    "0. Substract linear baseline\n",
    "\n",
    "0. More sophisticated algorithm?"
   ]
  }
 ],
 "metadata": {
  "kernelspec": {
   "display_name": "Python 3",
   "language": "python",
   "name": "python3"
  },
  "language_info": {
   "codemirror_mode": {
    "name": "ipython",
    "version": 3
   },
   "file_extension": ".py",
   "mimetype": "text/x-python",
   "name": "python",
   "nbconvert_exporter": "python",
   "pygments_lexer": "ipython3",
   "version": "3.5.3"
  }
 },
 "nbformat": 4,
 "nbformat_minor": 2
}
