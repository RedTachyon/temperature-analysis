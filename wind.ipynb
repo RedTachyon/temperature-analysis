{
 "cells": [
  {
   "cell_type": "code",
   "execution_count": 1,
   "metadata": {},
   "outputs": [],
   "source": [
    "import numpy as np\n",
    "from scipy.io import loadmat\n",
    "import matplotlib\n",
    "matplotlib.use(\"TkAgg\")\n",
    "import matplotlib.pyplot as plt\n",
    "import pickle\n"
   ]
  },
  {
   "cell_type": "code",
   "execution_count": 2,
   "metadata": {
    "collapsed": true
   },
   "outputs": [],
   "source": [
    "data = loadmat('data/raw/actos_flight07.mat', variable_names=('sonic1', 'sonic2', 'sonic3'))"
   ]
  },
  {
   "cell_type": "code",
   "execution_count": 3,
   "metadata": {},
   "outputs": [],
   "source": [
    "v1, v2, v3 = data['sonic1'], data['sonic2'], data['sonic3']"
   ]
  },
  {
   "cell_type": "code",
   "execution_count": 4,
   "metadata": {
    "collapsed": true
   },
   "outputs": [],
   "source": [
    "with open(\"data/data.pickle\", \"rb\") as f:\n",
    "    data = pickle.load(f)"
   ]
  },
  {
   "cell_type": "code",
   "execution_count": 5,
   "metadata": {},
   "outputs": [
    {
     "data": {
      "text/plain": [
       "(666222, 1)"
      ]
     },
     "execution_count": 5,
     "metadata": {},
     "output_type": "execute_result"
    }
   ],
   "source": [
    "data['lowT_av'].shape"
   ]
  },
  {
   "cell_type": "code",
   "execution_count": 6,
   "metadata": {
    "collapsed": true
   },
   "outputs": [],
   "source": [
    "theta = np.arccos(v3 / np.sqrt(v1**2 + v2**2 + v3**2)).ravel()\n",
    "phi = np.arccos(v2 / np.sqrt(v1**2 + v2**2)).ravel()"
   ]
  },
  {
   "cell_type": "code",
   "execution_count": 7,
   "metadata": {},
   "outputs": [],
   "source": [
    "H, xedges, yedges = np.histogram2d(theta, phi, bins=100, normed=False)\n",
    "H = H / H.sum()"
   ]
  },
  {
   "cell_type": "code",
   "execution_count": 8,
   "metadata": {},
   "outputs": [],
   "source": [
    "plt.imshow(H, interpolation='bilinear', origin='low', extent=[xedges[0], xedges[-1], yedges[0], yedges[-1]])\n",
    "\n",
    "plt.show()"
   ]
  },
  {
   "cell_type": "code",
   "execution_count": 29,
   "metadata": {},
   "outputs": [
    {
     "data": {
      "text/plain": [
       "array([ 0.20729744,  0.23385101,  0.26040459,  0.28695816,  0.31351174,\n",
       "        0.34006531,  0.36661889,  0.39317246,  0.41972604,  0.44627961,\n",
       "        0.47283318,  0.49938676,  0.52594033,  0.55249391,  0.57904748,\n",
       "        0.60560106,  0.63215463,  0.65870821,  0.68526178,  0.71181536,\n",
       "        0.73836893,  0.76492251,  0.79147608,  0.81802966,  0.84458323,\n",
       "        0.87113681,  0.89769038,  0.92424396,  0.95079753,  0.97735111,\n",
       "        1.00390468,  1.03045826,  1.05701183,  1.08356541,  1.11011898,\n",
       "        1.13667256,  1.16322613,  1.18977971,  1.21633328,  1.24288686,\n",
       "        1.26944043,  1.29599401,  1.32254758,  1.34910116,  1.37565473,\n",
       "        1.40220831,  1.42876188,  1.45531546,  1.48186903,  1.50842261,\n",
       "        1.53497618,  1.56152976,  1.58808333,  1.61463691,  1.64119048,\n",
       "        1.66774406,  1.69429763,  1.72085121,  1.74740478,  1.77395836,\n",
       "        1.80051193,  1.82706551,  1.85361908,  1.88017266,  1.90672623,\n",
       "        1.93327981,  1.95983338,  1.98638696,  2.01294053,  2.03949411,\n",
       "        2.06604768,  2.09260125,  2.11915483,  2.1457084 ,  2.17226198,\n",
       "        2.19881555,  2.22536913,  2.2519227 ,  2.27847628,  2.30502985,\n",
       "        2.33158343,  2.358137  ,  2.38469058,  2.41124415,  2.43779773,\n",
       "        2.4643513 ,  2.49090488,  2.51745845,  2.54401203,  2.5705656 ,\n",
       "        2.59711918,  2.62367275,  2.65022633,  2.6767799 ,  2.70333348,\n",
       "        2.72988705,  2.75644063,  2.7829942 ,  2.80954778,  2.83610135,\n",
       "        2.86265493])"
      ]
     },
     "execution_count": 29,
     "metadata": {},
     "output_type": "execute_result"
    }
   ],
   "source": [
    "xedges"
   ]
  },
  {
   "cell_type": "code",
   "execution_count": null,
   "metadata": {
    "collapsed": true
   },
   "outputs": [],
   "source": []
  }
 ],
 "metadata": {
  "kernelspec": {
   "display_name": "Python 3",
   "language": "python",
   "name": "python3"
  },
  "language_info": {
   "codemirror_mode": {
    "name": "ipython",
    "version": 3
   },
   "file_extension": ".py",
   "mimetype": "text/x-python",
   "name": "python",
   "nbconvert_exporter": "python",
   "pygments_lexer": "ipython3",
   "version": "3.5.4"
  }
 },
 "nbformat": 4,
 "nbformat_minor": 2
}
